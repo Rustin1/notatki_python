{
  "nbformat": 4,
  "nbformat_minor": 0,
  "metadata": {
    "colab": {
      "provenance": []
    },
    "kernelspec": {
      "name": "python3",
      "display_name": "Python 3"
    },
    "language_info": {
      "name": "python"
    }
  },
  "cells": [
    {
      "cell_type": "markdown",
      "source": [
        "# Zadanie 1: Iterator zwracający tylko elementy z parzystych indeksów sekwencji"
      ],
      "metadata": {
        "id": "-_fvzvT8_tPY"
      }
    },
    {
      "cell_type": "code",
      "source": [
        "\n",
        "class EvenIndexIterator:\n",
        "    def __init__(self, sequence):\n",
        "        self.sequence = sequence  # Przechowuje sekwencję\n",
        "        self.index = 0  # Zaczyna od indeksu 0 (pierwszy element)\n",
        "\n",
        "    def __iter__(self):\n",
        "        return self  # Iterator zwraca samego siebie\n",
        "\n",
        "    def __next__(self):\n",
        "        if self.index >= len(self.sequence):  # Koniec sekwencji\n",
        "            raise StopIteration  # Przerywa iterację\n",
        "        value = self.sequence[self.index]  # Pobiera element o parzystym indeksie\n",
        "        self.index += 2  # Przeskakuje co drugi indeks\n",
        "        return value  # Zwraca bieżący element\n",
        "\n",
        "# Przykład użycia:\n",
        "it = EvenIndexIterator([10, 11, 12, 13, 14])  # Utwórz iterator dla listy\n",
        "print(list(it))  # Wyświetli: [10, 12, 14]\n",
        "\n"
      ],
      "metadata": {
        "colab": {
          "base_uri": "https://localhost:8080/"
        },
        "id": "mImfEdXA__-m",
        "outputId": "f23de409-0d2e-4775-b502-50fbf7492f94"
      },
      "execution_count": 5,
      "outputs": [
        {
          "output_type": "stream",
          "name": "stdout",
          "text": [
            "[10, 12, 14]\n"
          ]
        }
      ]
    },
    {
      "cell_type": "markdown",
      "source": [
        "# Zadanie 2: Iterator generujący liczby pierwsze"
      ],
      "metadata": {
        "id": "Q71lHh3SAbD0"
      }
    },
    {
      "cell_type": "code",
      "source": [
        "\n",
        "\n",
        "class PrimeIterator:\n",
        "    def __init__(self):\n",
        "        self.num = 1  # Zaczynamy od 1 (pierwsza liczba pierwsza to 2)\n",
        "\n",
        "    def __iter__(self):\n",
        "        return self  # Zwraca siebie jako iterator\n",
        "\n",
        "    def __next__(self):\n",
        "        self.num += 1  # Przejście do kolejnej liczby\n",
        "        while not self.is_prime(self.num):  # Szuka kolejnej liczby pierwszej\n",
        "            self.num += 1\n",
        "        return self.num  # Zwraca liczbę pierwszą\n",
        "\n",
        "    @staticmethod\n",
        "    def is_prime(n):\n",
        "        if n < 2:  # Liczby mniejsze niż 2 nie są pierwsze\n",
        "            return False\n",
        "        for i in range(2, int(n ** 0.5) + 1):  # Sprawdzanie dzielników do pierwiastka z n\n",
        "            if n % i == 0:  # Jeśli dzieli się bez reszty, to nie jest pierwsza\n",
        "                return False\n",
        "        return True  # Jeśli nie znaleziono dzielników, to liczba jest pierwsza\n",
        "\n",
        "# Przykład użycia:\n",
        "prime_gen = PrimeIterator()\n",
        "for _ in range(10):\n",
        "    print(next(prime_gen))  # Wyświetla pierwsze 10 liczb pierwszych\n",
        "\n"
      ],
      "metadata": {
        "colab": {
          "base_uri": "https://localhost:8080/"
        },
        "id": "Buaxj-tqADHu",
        "outputId": "01d81981-4752-4b3c-d4fa-da21ef73d08d"
      },
      "execution_count": 6,
      "outputs": [
        {
          "output_type": "stream",
          "name": "stdout",
          "text": [
            "2\n",
            "3\n",
            "5\n",
            "7\n",
            "11\n",
            "13\n",
            "17\n",
            "19\n",
            "23\n",
            "29\n"
          ]
        }
      ]
    },
    {
      "cell_type": "markdown",
      "source": [
        "# Zadanie 3: Nieskończony iterator nazw dni tygodnia (z dowolnym startem)"
      ],
      "metadata": {
        "id": "XeS48R6HAXET"
      }
    },
    {
      "cell_type": "code",
      "source": [
        "\n",
        "\n",
        "class WeekdayIterator:\n",
        "    dni = [\"poniedziałek\", \"wtorek\", \"środa\", \"czwartek\", \"piątek\", \"sobota\", \"niedziela\"]\n",
        "\n",
        "    def __init__(self, start_index=0):\n",
        "        self.index = start_index % 7  # Ustawienie indeksu startowego (zabezpieczone modulo 7)\n",
        "\n",
        "    def __iter__(self):\n",
        "        return self  # Zwraca siebie jako iterator\n",
        "\n",
        "    def __next__(self):\n",
        "        result = self.dni[self.index]  # Pobiera dzień tygodnia z listy\n",
        "        self.index = (self.index + 1) % 7  # Przechodzi do kolejnego dnia (cyklicznie)\n",
        "        return result  # Zwraca aktualny dzień\n",
        "\n",
        "# Przykład użycia:\n",
        "dni = WeekdayIterator(3)  # Start od \"czwartek\"\n",
        "for _ in range(10):\n",
        "    print(next(dni))  # Wyświetli 10 kolejnych dni tygodnia od czwartku\n"
      ],
      "metadata": {
        "colab": {
          "base_uri": "https://localhost:8080/"
        },
        "id": "g7N0QPJ2AFpB",
        "outputId": "1fdaee4a-92c1-4f05-d50f-3fbdcfd166ba"
      },
      "execution_count": 7,
      "outputs": [
        {
          "output_type": "stream",
          "name": "stdout",
          "text": [
            "czwartek\n",
            "piątek\n",
            "sobota\n",
            "niedziela\n",
            "poniedziałek\n",
            "wtorek\n",
            "środa\n",
            "czwartek\n",
            "piątek\n",
            "sobota\n"
          ]
        }
      ]
    },
    {
      "cell_type": "markdown",
      "source": [
        "# Zadanie 4: Iterator słów w tekście (użycie wyrażeń regularnych)"
      ],
      "metadata": {
        "id": "PbwlA6D-AUpT"
      }
    },
    {
      "cell_type": "code",
      "source": [
        "\n",
        "\n",
        "\n",
        "import re  # Import modułu do obsługi wyrażeń regularnych\n",
        "\n",
        "class WordIterator:\n",
        "    def __init__(self, text):\n",
        "        self.words = re.findall(r'\\b\\w+\\b', text)  # Znajduje wszystkie słowa (ciągi znaków alfanumerycznych)\n",
        "        self.index = 0  # Ustawia indeks startowy\n",
        "\n",
        "    def __iter__(self):\n",
        "        return self  # Zwraca siebie jako iterator\n",
        "\n",
        "    def __next__(self):\n",
        "        if self.index >= len(self.words):  # Sprawdza, czy są jeszcze słowa\n",
        "            raise StopIteration  # Jeśli nie, kończy iterację\n",
        "        word = self.words[self.index]  # Pobiera bieżące słowo\n",
        "        self.index += 1  # Przechodzi do kolejnego słowa\n",
        "        return word  # Zwraca aktualne słowo\n",
        "\n",
        "# Przykład:\n",
        "text = \"To jest przykładowy tekst, z którego wyciągamy słowa!\"\n",
        "it = WordIterator(text)\n",
        "print(list(it))  # ['To', 'jest', 'przykładowy', 'tekst', 'z', 'którego', 'wyciągamy', 'słowa']\n",
        "\n"
      ],
      "metadata": {
        "colab": {
          "base_uri": "https://localhost:8080/"
        },
        "id": "48KtubeqAKM5",
        "outputId": "6ac1f2e1-2136-4ad0-b286-93ad15e5df3b"
      },
      "execution_count": 8,
      "outputs": [
        {
          "output_type": "stream",
          "name": "stdout",
          "text": [
            "['To', 'jest', 'przykładowy', 'tekst', 'z', 'którego', 'wyciągamy', 'słowa']\n"
          ]
        }
      ]
    },
    {
      "cell_type": "markdown",
      "source": [
        "# Zadanie 5: Generator słów na podstawie tekstu"
      ],
      "metadata": {
        "id": "2j9bZJ1YAT1p"
      }
    },
    {
      "cell_type": "code",
      "source": [
        "\n",
        "# Zadanie 5: Generator słów na podstawie tekstu\n",
        "def word_generator(text):\n",
        "    for match in re.finditer(r'\\b\\w+\\b', text):  # Szuka wszystkich dopasowań słów\n",
        "        yield match.group()  # Zwraca słowo jako wynik generatora\n",
        "\n",
        "# Przykład:\n",
        "gen = word_generator(\"Przykład tekstu z wieloma słowami!\")\n",
        "print(list(gen))  # ['Przykład', 'tekstu', 'z', 'wieloma', 'słowami']\n",
        "\n"
      ],
      "metadata": {
        "colab": {
          "base_uri": "https://localhost:8080/"
        },
        "id": "2hF6FLnHAOig",
        "outputId": "45203717-0644-458c-9c68-f50d1606a0e2"
      },
      "execution_count": 9,
      "outputs": [
        {
          "output_type": "stream",
          "name": "stdout",
          "text": [
            "['Przykład', 'tekstu', 'z', 'wieloma', 'słowami']\n"
          ]
        }
      ]
    },
    {
      "cell_type": "markdown",
      "source": [
        "# Zadanie 6: Generator kodów produktów (np. A_01 do Z_99, AA_001 do ZZ_999)"
      ],
      "metadata": {
        "id": "7IpqwHN2ASe0"
      }
    },
    {
      "cell_type": "code",
      "source": [
        "\n",
        "\n",
        "import string  # Dostarcza listę liter alfabetu\n",
        "import itertools  # Moduł do generowania kombinacji\n",
        "\n",
        "def product_code_generator(letter_pos, num_pos):\n",
        "    letters = string.ascii_uppercase  # Lista wielkich liter alfabetu: A-Z\n",
        "    for letter_combo in itertools.product(letters, repeat=letter_pos):  # Kombinacje liter o zadanej długości\n",
        "        prefix = ''.join(letter_combo)  # Łączenie liter w jeden napis (np. 'A', 'AB', itp.)\n",
        "        for number in range(1, 10**num_pos):  # Zakres liczb od 1 do 999... zależnie od num_pos\n",
        "            code = f\"{prefix}_{number:0{num_pos}d}\"  # Formatowanie kodu np. \"A_01\", \"AA_001\"\n",
        "            yield code  # Generator zwraca kod\n",
        "\n",
        "# Przykład:\n",
        "gen = product_code_generator(1, 2)  # Jeden znak + liczba 2-cyfrowa\n",
        "for _ in range(5):\n",
        "    print(next(gen))  # Wyświetli: A_01, A_02, A_03, A_04, A_05\n"
      ],
      "metadata": {
        "colab": {
          "base_uri": "https://localhost:8080/"
        },
        "id": "-HZ9ezQkAQdN",
        "outputId": "a7a070d3-5f89-4194-84fe-4f308af48ce6"
      },
      "execution_count": 10,
      "outputs": [
        {
          "output_type": "stream",
          "name": "stdout",
          "text": [
            "A_01\n",
            "A_02\n",
            "A_03\n",
            "A_04\n",
            "A_05\n"
          ]
        }
      ]
    }
  ]
}