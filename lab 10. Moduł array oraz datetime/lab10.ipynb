{
  "nbformat": 4,
  "nbformat_minor": 0,
  "metadata": {
    "colab": {
      "provenance": []
    },
    "kernelspec": {
      "name": "python3",
      "display_name": "Python 3"
    },
    "language_info": {
      "name": "python"
    }
  },
  "cells": [
    {
      "cell_type": "markdown",
      "source": [
        "# --- Zadanie 1: Porównanie czasu inicjalizacji, dostępu i insertów ---"
      ],
      "metadata": {
        "id": "1NupTsa3Cyxp"
      }
    },
    {
      "cell_type": "code",
      "execution_count": null,
      "metadata": {
        "id": "cFsalStcCbUr"
      },
      "outputs": [],
      "source": [
        "\n",
        "from array import array  # Import typu array z modułu array\n",
        "from timeit import timeit  # Import funkcji do pomiaru czasu\n",
        "\n",
        "# Przygotowanie setupu dla pomiaru czasu dostępu i insertów\n",
        "setup_i = \"from array import array; arr = array('i', range(10000))\"  # Setup dla array z intami\n",
        "setup_list_i = \"lst = list(range(10000))\"  # Setup dla listy z intami\n",
        "setup_w = \"from array import array; arr = array('u', 'a'*10000)\"  # Setup dla array z znakami unicode\n",
        "setup_list_w = \"lst = ['a']*10000\"  # Setup dla listy znaków\n",
        "\n",
        "# Pomiar czasu inicjalizacji struktur\n",
        "init_array_i = timeit(\"array('i', range(10000))\", setup=\"from array import array\", number=1000)\n",
        "init_list_i = timeit(\"list(range(10000))\", number=1000)\n",
        "init_array_w = timeit(\"array('u', 'a'*10000)\", setup=\"from array import array\", number=1000)\n",
        "init_list_w = timeit(\"['a']*10000\", number=1000)\n",
        "\n",
        "# Pomiar czasu dostępu do elementu środkowego\n",
        "access_array_i = timeit(\"arr[5000]\", setup=setup_i, number=1_000_000)\n",
        "access_list_i = timeit(\"lst[5000]\", setup=setup_list_i, number=1_000_000)\n",
        "\n",
        "# Pomiar czasu wstawienia elementu na początek\n",
        "insert_array = timeit(\"arr.insert(0, 123)\", setup=setup_i, number=1000)\n",
        "insert_list = timeit(\"lst.insert(0, 123)\", setup=setup_list_i, number=1000)\n",
        "\n",
        "# Wyświetlanie wyników\n",
        "print(f\"Inicjalizacja array('i'): {init_array_i:.6f}s\")\n",
        "print(f\"Inicjalizacja list(int): {init_list_i:.6f}s\")\n",
        "print(f\"Inicjalizacja array('u'): {init_array_w:.6f}s\")\n",
        "print(f\"Inicjalizacja list(str): {init_list_w:.6f}s\")\n",
        "print(f\"Dostęp array('i'): {access_array_i:.6f}s\")\n",
        "print(f\"Dostęp list(int): {access_list_i:.6f}s\")\n",
        "print(f\"Insert array('i'): {insert_array:.6f}s\")\n",
        "print(f\"Insert list(int): {insert_list:.6f}s\")\n",
        "\n"
      ]
    },
    {
      "cell_type": "markdown",
      "source": [
        "# --- Zadanie 2: Pomiar czasu zapisu i odczytu danych (tablica vs. lista) ---"
      ],
      "metadata": {
        "id": "6e5rsKD1ChZL"
      }
    },
    {
      "cell_type": "code",
      "source": [
        "\n",
        "\n",
        "from array import array  # Import array do przechowywania danych binarnych\n",
        "import random  # Do generowania danych losowych\n",
        "import datetime  # Do pomiaru czasu\n",
        "\n",
        "# Tworzenie tablicy z 1 mln losowych liczb zmiennoprzecinkowych\n",
        "arr = array('f', [random.random() for _ in range(1_000_000)])\n",
        "start = datetime.datetime.now()  # Start pomiaru czasu\n",
        "with open(\"array_file.bin\", \"wb\") as f:  # Zapis binarny do pliku\n",
        "    arr.tofile(f)\n",
        "with open(\"array_file.bin\", \"rb\") as f:  # Odczyt binarny z pliku\n",
        "    loaded_arr = array('f')\n",
        "    loaded_arr.fromfile(f, 1_000_000)\n",
        "end = datetime.datetime.now()  # Koniec pomiaru\n",
        "array_time = end - start  # Różnica czasu zapisu i odczytu tablicy\n",
        "\n",
        "# Tworzenie listy z 1 mln losowych liczb zmiennoprzecinkowych\n",
        "lst = [random.random() for _ in range(1_000_000)]\n",
        "start = datetime.datetime.now()\n",
        "with open(\"list_file.txt\", \"w\") as f:  # Zapis jako tekst (każda liczba w nowej linii)\n",
        "    f.writelines('\\n'.join(map(str, lst)))\n",
        "with open(\"list_file.txt\", \"r\") as f:  # Odczyt tekstu i konwersja do float\n",
        "    loaded_list = [float(x.strip()) for x in f.readlines()]\n",
        "end = datetime.datetime.now()\n",
        "list_time = end - start  # Różnica czasu zapisu i odczytu listy\n",
        "\n",
        "# Wyświetlenie wyników\n",
        "print(f\"Czas zapisu i odczytu tablicy: {array_time}\")\n",
        "print(f\"Czas zapisu i odczytu listy:   {list_time}\")\n"
      ],
      "metadata": {
        "colab": {
          "base_uri": "https://localhost:8080/"
        },
        "id": "0szPeydJCiMh",
        "outputId": "e2c328d7-720d-4567-8c12-9eda9b2a1be6"
      },
      "execution_count": 1,
      "outputs": [
        {
          "output_type": "stream",
          "name": "stdout",
          "text": [
            "Czas zapisu i odczytu tablicy: 0:00:00.023621\n",
            "Czas zapisu i odczytu listy:   0:00:06.671011\n"
          ]
        }
      ]
    },
    {
      "cell_type": "markdown",
      "source": [
        "# --- Zadanie 3: Funkcja wieku i urodzin ---"
      ],
      "metadata": {
        "id": "QHImHwx6CvJ0"
      }
    },
    {
      "cell_type": "code",
      "source": [
        "\n",
        "\n",
        "\n",
        "import datetime  # Import do operacji na datach\n",
        "from dateutil.relativedelta import relativedelta  # Biblioteka do różnic w datach (lata, miesiące)\n",
        "\n",
        "def wiek_info(data_urodzenia: str):\n",
        "    urodziny = datetime.datetime.strptime(data_urodzenia, \"%Y-%m-%d\").date()  # Parsowanie daty urodzenia\n",
        "    dzisiaj = datetime.date.today()  # Dzisiejsza data\n",
        "\n",
        "    wiek = relativedelta(dzisiaj, urodziny)  # Obliczenie różnicy dat jako lata, miesiące, dni\n",
        "    dni_zycia = (dzisiaj - urodziny).days  # Liczba dni życia\n",
        "\n",
        "    # Obliczenie daty najbliższych urodzin\n",
        "    najblizsze = datetime.date(dzisiaj.year, urodziny.month, urodziny.day)\n",
        "    if najblizsze < dzisiaj:  # Jeśli urodziny były w tym roku, szukamy w przyszłym\n",
        "        najblizsze = datetime.date(dzisiaj.year + 1, urodziny.month, urodziny.day)\n",
        "\n",
        "    do_urodzin = relativedelta(najblizsze, dzisiaj)  # Ile pozostało do urodzin\n",
        "    od_poprzednich = relativedelta(dzisiaj, najblizsze - relativedelta(years=1))  # Ile minęło od poprzednich\n",
        "\n",
        "    # Komunikaty\n",
        "    print(f\"Witaj! Na dzień dzisiejszy masz {wiek.years} lat, {wiek.months} miesięcy oraz {wiek.days} dni.\")\n",
        "    print(f\"Razem daje to imponujące {dni_zycia} dni!\")\n",
        "    print(f\"Twoje najbliższe urodziny będą miały miejsce w dniu {najblizsze} czyli za {do_urodzin.months} miesięcy oraz {do_urodzin.days} dni.\")\n",
        "    print(f\"Od poprzednich urodzin minęło {od_poprzednich.months} miesięcy i {od_poprzednich.days} dni.\")\n",
        "\n",
        "# Przykład użycia\n",
        "wiek_info(\"1969-01-14\")\n",
        "\n"
      ],
      "metadata": {
        "id": "JkQ_sibXCoVh"
      },
      "execution_count": null,
      "outputs": []
    },
    {
      "cell_type": "markdown",
      "source": [
        "# --- Zadanie 4: Analiza dat w zamowienia.csv (bez Pandas) ---"
      ],
      "metadata": {
        "id": "HHtEZoBLCtnC"
      }
    },
    {
      "cell_type": "code",
      "source": [
        "\n",
        "\n",
        "import csv  # Do wczytania pliku CSV\n",
        "import datetime  # Do operacji na datach\n",
        "\n",
        "daty = []  # Lista na daty zamówień\n",
        "\n",
        "with open(\"zamowienia.csv\", encoding=\"utf-8\") as f:  # Otwieranie pliku CSV\n",
        "    reader = csv.DictReader(f, delimiter=\";\")  # Czytanie pliku jako słowniki (nagłówki jako klucze)\n",
        "    for row in reader:\n",
        "        data = row[\"Data zamowienia\"]  # Pobranie daty z wiersza\n",
        "        try:\n",
        "            parsed = datetime.datetime.strptime(data, \"%Y-%m-%d\").date()  # Parsowanie daty do obiektu\n",
        "            daty.append(parsed)  # Dodanie do listy\n",
        "        except ValueError:\n",
        "            continue  # Pomijamy błędne wpisy\n",
        "\n",
        "najstarsza = min(daty)  # Najwcześniejsza data\n",
        "najnowsza = max(daty)  # Najpóźniejsza data\n",
        "roznica = (najnowsza - najstarsza).days  # Różnica w dniach\n",
        "\n",
        "# Wyświetlenie wyników\n",
        "print(f\"Najstarsza data: {najstarsza}\")\n",
        "print(f\"Najnowsza data: {najnowsza}\")\n",
        "print(f\"Różnica dni: {roznica}\")\n"
      ],
      "metadata": {
        "id": "wDJvR1DcCrYj"
      },
      "execution_count": null,
      "outputs": []
    }
  ]
}