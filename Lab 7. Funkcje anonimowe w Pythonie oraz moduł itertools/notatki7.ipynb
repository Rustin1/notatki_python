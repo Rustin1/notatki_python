{
  "nbformat": 4,
  "nbformat_minor": 0,
  "metadata": {
    "colab": {
      "provenance": []
    },
    "kernelspec": {
      "name": "python3",
      "display_name": "Python 3"
    },
    "language_info": {
      "name": "python"
    }
  },
  "cells": [
    {
      "cell_type": "markdown",
      "source": [
        "# Zadanie 1 – Zliczanie samogłosek za pomocą reduce i lambda"
      ],
      "metadata": {
        "id": "_E5ZoExs-gOW"
      }
    },
    {
      "cell_type": "code",
      "execution_count": 2,
      "metadata": {
        "colab": {
          "base_uri": "https://localhost:8080/"
        },
        "id": "pGm230xM9N0L",
        "outputId": "445760aa-5c30-44be-dfb6-b19c7d416d29"
      },
      "outputs": [
        {
          "output_type": "stream",
          "name": "stdout",
          "text": [
            "10\n"
          ]
        }
      ],
      "source": [
        "\n",
        "from functools import reduce  # Import funkcji reduce do przetwarzania iteracyjnego\n",
        "\n",
        "text = \"Przykładowy tekst z samogłoskami\"  # Przykładowy tekst do analizy\n",
        "\n",
        "# Lambda, która zlicza samogłoski w tekście\n",
        "count_vowels = lambda txt: reduce(\n",
        "    lambda acc, char: acc + (1 if char.lower() in 'aeiouyąęó' else 0),  # dodaj 1 jeśli znak to samogłoska\n",
        "    txt,  # przetwarzamy każdy znak w tekście\n",
        "    0     # zaczynamy od 0\n",
        ")\n",
        "\n",
        "print(count_vowels(text))  # Wyświetlamy wynik, np. 10\n"
      ]
    },
    {
      "cell_type": "markdown",
      "source": [
        "# Zadanie 2 – Sortowanie po liczbie punktów wyciągniętej z tekstu"
      ],
      "metadata": {
        "id": "pxTPTDIQ-ich"
      }
    },
    {
      "cell_type": "code",
      "source": [
        "\n",
        "\n",
        "\n",
        "data = [\n",
        "    ('Adam', 'Nowak', '13 pkt'),\n",
        "    ('Anna','Górka', '15 pkt'),\n",
        "    ('Wojtek', 'Bonk', '8 pkt')\n",
        "]\n",
        "\n",
        "# Sortujemy dane według liczby punktów (wyciągamy liczbę z trzeciego elementu)\n",
        "sorted_data = sorted(\n",
        "    data,\n",
        "    key=lambda x: int(x[2].split()[0]),  # bierzemy liczbę (np. \"13\") i zamieniamy na int\n",
        "    reverse=True  # sortowanie malejące (najwięcej punktów na górze)\n",
        ")\n",
        "\n",
        "print(sorted_data)  # Wyświetlamy posortowaną listę\n",
        "\n"
      ],
      "metadata": {
        "colab": {
          "base_uri": "https://localhost:8080/"
        },
        "id": "_YRnBhf4-QZd",
        "outputId": "d61acaa2-8501-49f3-97cd-43b9fdfe8ed1"
      },
      "execution_count": 3,
      "outputs": [
        {
          "output_type": "stream",
          "name": "stdout",
          "text": [
            "[('Anna', 'Górka', '15 pkt'), ('Adam', 'Nowak', '13 pkt'), ('Wojtek', 'Bonk', '8 pkt')]\n"
          ]
        }
      ]
    },
    {
      "cell_type": "markdown",
      "source": [
        "# Zadanie 3 – Iloczyn 10 pierwszych liczb Fibonacciego"
      ],
      "metadata": {
        "id": "kzfpyerz-kgz"
      }
    },
    {
      "cell_type": "code",
      "source": [
        "\n",
        "\n",
        "from functools import reduce  # reduce do mnożenia wszystkich elementów\n",
        "from operator import mul      # mul = operator mnożenia\n",
        "\n",
        "# Generujemy 10 pierwszych liczb Fibonacciego (zaczynając od 1, 1)\n",
        "fibo = [1, 1]\n",
        "for _ in range(8):  # Potrzebujemy jeszcze 8 liczb\n",
        "    fibo.append(fibo[-1] + fibo[-2])  # każda liczba to suma dwóch poprzednich\n",
        "\n",
        "# Obliczamy iloczyn wszystkich liczb z listy\n",
        "product = reduce(mul, fibo)  # reduce(mul, [1, 1, 2, 3, ...])\n",
        "\n",
        "print(product)  # Wyświetlamy wynik\n"
      ],
      "metadata": {
        "colab": {
          "base_uri": "https://localhost:8080/"
        },
        "id": "stRf7Jpx-Vqo",
        "outputId": "31921e7e-ab70-4b39-eaab-7e251afa620f"
      },
      "execution_count": 4,
      "outputs": [
        {
          "output_type": "stream",
          "name": "stdout",
          "text": [
            "122522400\n"
          ]
        }
      ]
    },
    {
      "cell_type": "markdown",
      "source": [
        "# Zadanie 4 – Zwracanie dnia tygodnia z cycle"
      ],
      "metadata": {
        "id": "GSkUhddH-mv-"
      }
    },
    {
      "cell_type": "code",
      "source": [
        "\n",
        "\n",
        "\n",
        "from itertools import cycle, islice  # cycle = nieskończona pętla, islice = wycinek iteratora\n",
        "\n",
        "def jaki_dzien(start_day, n):\n",
        "    dni = ['poniedziałek', 'wtorek', 'środa', 'czwartek', 'piątek', 'sobota', 'niedziela']  # lista dni\n",
        "    cyc = cycle(dni)  # tworzymy nieskończoną pętlę po dniach tygodnia\n",
        "    start_index = dni.index(start_day)  # znajdź pozycję startową\n",
        "\n",
        "    # przesuń cykl do odpowiedniego miejsca i weź n+1 elementów\n",
        "    shifted = islice(cyc, start_index, start_index + n + 1)\n",
        "\n",
        "    return list(shifted)[-1]  # zwróć ostatni (czyli n-ty) dzień\n",
        "\n",
        "print(jaki_dzien('wtorek', 3))  # np. 'piątek'\n",
        "\n"
      ],
      "metadata": {
        "colab": {
          "base_uri": "https://localhost:8080/"
        },
        "id": "7cpSqqnJ-YGK",
        "outputId": "6a9b891a-f3b4-43fc-e218-2ac72d9d8a6a"
      },
      "execution_count": 5,
      "outputs": [
        {
          "output_type": "stream",
          "name": "stdout",
          "text": [
            "piątek\n"
          ]
        }
      ]
    },
    {
      "cell_type": "markdown",
      "source": [
        "# Zadanie 5 – Permutacje jako stringi (lambda + permutations)"
      ],
      "metadata": {
        "id": "uqRFEuzp-oOq"
      }
    },
    {
      "cell_type": "code",
      "source": [
        "\n",
        "\n",
        "from itertools import permutations  # importujemy funkcję do tworzenia permutacji\n",
        "\n",
        "perms = permutations('ABCD', 2)  # wszystkie permutacje 2-literowe z ciągu 'ABCD'\n",
        "\n",
        "# zamieniamy permutacje (krotki) na stringi, np. ('A', 'B') -> 'AB'\n",
        "as_strings = list(map(lambda x: ''.join(x), perms))\n",
        "\n",
        "print(as_strings)  # Wyświetlamy listę stringów\n"
      ],
      "metadata": {
        "colab": {
          "base_uri": "https://localhost:8080/"
        },
        "id": "mXWgwhaW-aMp",
        "outputId": "9da8ec3b-e65d-46ac-e464-9fd20070e7ac"
      },
      "execution_count": 6,
      "outputs": [
        {
          "output_type": "stream",
          "name": "stdout",
          "text": [
            "['AB', 'AC', 'AD', 'BA', 'BC', 'BD', 'CA', 'CB', 'CD', 'DA', 'DB', 'DC']\n"
          ]
        }
      ]
    },
    {
      "cell_type": "markdown",
      "source": [
        "# Zadanie 6 – Kombinacje rozmienienia 100 zł"
      ],
      "metadata": {
        "id": "HNRcq8Nu-t3U"
      }
    },
    {
      "cell_type": "code",
      "source": [
        "\n",
        "\n",
        "\n",
        "from itertools import product  # wszystkie możliwe kombinacje elementów\n",
        "\n",
        "# Zakresy możliwych ilości dla każdego nominału\n",
        "comb = [\n",
        "    range(0, 5),   # 0–4 x 20 zł = max 80 zł\n",
        "    range(0, 4),   # 0–3 x 10 zł = max 30 zł\n",
        "    range(0, 3),   # 0–2 x 50 zł = max 100 zł\n",
        "    range(0, 3)    # 0–2 x 5 zł  = max 10 zł\n",
        "]\n",
        "\n",
        "count = 0  # Licznik kombinacji\n",
        "\n",
        "# Iterujemy po wszystkich możliwych kombinacjach (iloczyn kartezjański)\n",
        "for a, b, c, d in product(*comb):\n",
        "    if 20*a + 10*b + 50*c + 5*d == 100:  # jeśli suma daje dokładnie 100 zł\n",
        "        count += 1  # zwiększ licznik\n",
        "\n",
        "print(count)  # Wyświetlamy liczbę poprawnych kombinacji, np. 8\n",
        "\n",
        "\n",
        "# Zadanie 7 – starmap + format\n",
        "from itertools import starmap  # starmap pozwala rozpakować argumenty do funkcji\n",
        "\n",
        "args = [\n",
        "    (255, 'x'),      # format liczby 255 jako szesnastkowej\n",
        "    (3.14159, '.2f'),# formatowanie float z dokładnością do 2 miejsc po przecinku\n",
        "    (1000, ',d')     # liczba całkowita z separatorem tysięcy\n",
        "]\n",
        "\n",
        "# Zastosuj format do każdej pary argumentów\n",
        "formatted = list(starmap(format, args))  # np. format(255, 'x') -> 'ff'\n",
        "\n",
        "print(formatted)  # ['ff', '3.14', '1,000']\n"
      ],
      "metadata": {
        "colab": {
          "base_uri": "https://localhost:8080/"
        },
        "id": "WAghgLlA-cO4",
        "outputId": "16fb4a1e-e9ab-4e90-fc58-83f84b8d49a8"
      },
      "execution_count": 7,
      "outputs": [
        {
          "output_type": "stream",
          "name": "stdout",
          "text": [
            "8\n",
            "['ff', '3.14', '1,000']\n"
          ]
        }
      ]
    }
  ]
}