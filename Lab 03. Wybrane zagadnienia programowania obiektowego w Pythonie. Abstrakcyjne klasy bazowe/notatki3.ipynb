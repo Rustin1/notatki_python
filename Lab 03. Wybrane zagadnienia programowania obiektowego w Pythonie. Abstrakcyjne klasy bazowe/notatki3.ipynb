{
  "nbformat": 4,
  "nbformat_minor": 0,
  "metadata": {
    "colab": {
      "provenance": []
    },
    "kernelspec": {
      "name": "python3",
      "display_name": "Python 3"
    },
    "language_info": {
      "name": "python"
    }
  },
  "cells": [
    {
      "cell_type": "markdown",
      "source": [
        "\n",
        "\n",
        "> # ------------------------------\n",
        "# 1. Klasa bazowa Field + Enum FieldType jako klasa wewnętrzna\n",
        "# ------------------------------\n",
        "\n"
      ],
      "metadata": {
        "id": "xQXeh45W9g58"
      }
    },
    {
      "cell_type": "code",
      "execution_count": 1,
      "metadata": {
        "id": "DBYXx5vS7Ydb"
      },
      "outputs": [],
      "source": [
        "from abc import ABC, abstractmethod\n",
        "from datetime import date\n",
        "from collections.abc import MutableSequence, Collection\n",
        "import inspect\n",
        "\n",
        "\n",
        "class Field(ABC):\n",
        "    \"\"\" Klasa bazowa dla wszystkich pól modelu \"\"\"\n",
        "\n",
        "    class FieldType:\n",
        "        \"\"\" Klasa wewnętrzna Enum definiująca typy pól \"\"\"\n",
        "        from enum import Enum\n",
        "\n",
        "        class Type(Enum):\n",
        "            INTEGER = 1\n",
        "            FLOAT = 2\n",
        "            STRING = 3\n",
        "            DATE = 4\n",
        "\n",
        "    def __init__(self):\n",
        "        self._value = None  # prywatna zmienna przechowująca wartość pola\n",
        "\n",
        "    def get_fieldtype(self):\n",
        "        return self.__class__.__name__  # zwraca nazwę klasy pola\n",
        "\n",
        "    def __setattr__(self, attr, val):\n",
        "        # jeśli ustawiamy wartość pola, delegujemy to do metody _set_field_value\n",
        "        if attr == 'value':\n",
        "            self._set_field_value(val)\n",
        "        else:\n",
        "            super().__setattr__(attr, val)\n",
        "\n",
        "    @abstractmethod\n",
        "    def _get_field_value(self):\n",
        "        \"\"\" Metoda abstrakcyjna do pobierania wartości pola \"\"\"\n",
        "        ...\n",
        "\n",
        "    @abstractmethod\n",
        "    def _set_field_value(self, val):\n",
        "        \"\"\" Metoda abstrakcyjna do ustawiania wartości pola \"\"\"\n",
        "        ...\n",
        "\n",
        "    def __str__(self):\n",
        "        return str(self._get_field_value())  # konwersja do stringa przez wartość pola\n"
      ]
    },
    {
      "cell_type": "markdown",
      "source": [
        "# ------------------------------\n",
        "# 2. Implementacja StringField, IntegerField, DateField\n",
        "# ------------------------------"
      ],
      "metadata": {
        "id": "1bqPri5s-HA-"
      }
    },
    {
      "cell_type": "code",
      "source": [
        "\n",
        "\n",
        "\n",
        "class StringField(Field):\n",
        "    def _set_field_value(self, val):\n",
        "        if isinstance(val, str):\n",
        "            self._value = val  # akceptujemy tylko stringi\n",
        "\n",
        "    def _get_field_value(self):\n",
        "        return self._value\n",
        "\n",
        "\n",
        "class IntegerField(Field):\n",
        "    def _set_field_value(self, val):\n",
        "        if isinstance(val, int):\n",
        "            self._value = val  # akceptujemy tylko liczby całkowite\n",
        "\n",
        "    def _get_field_value(self):\n",
        "        return self._value\n",
        "\n",
        "\n",
        "class DateField(Field):\n",
        "    def _set_field_value(self, val):\n",
        "        if isinstance(val, date):\n",
        "            self._value = val  # akceptujemy tylko obiekty daty\n",
        "\n",
        "    def _get_field_value(self):\n",
        "        return self._value\n"
      ],
      "metadata": {
        "id": "4le9_ilB9tVk"
      },
      "execution_count": 2,
      "outputs": []
    },
    {
      "cell_type": "markdown",
      "source": [
        "# ------------------------------\n",
        "# 3. Klasa Model z refaktoryzacją\n",
        "# ------------------------------"
      ],
      "metadata": {
        "id": "-992MrgX-Bfw"
      }
    },
    {
      "cell_type": "code",
      "source": [
        "\n",
        "\n",
        "\n",
        "class Model:\n",
        "    def __init__(self, db_table=None):\n",
        "        # Ustawiamy nazwę tabeli lub generujemy ją automatycznie\n",
        "        self.db_table = self.generate_table_for_name(self.__class__.__name__) if db_table is None else db_table\n",
        "\n",
        "    @staticmethod\n",
        "    def generate_table_for_name(name: str):\n",
        "        \"\"\" Generuje nazwę tabeli z nazwy klasy \"\"\"\n",
        "        return f'db_{name.lower()}'\n",
        "\n",
        "    def get_fields(self):\n",
        "        \"\"\" Pobiera wszystkie pola będące instancjami Field \"\"\"\n",
        "        fields = {}\n",
        "        for name, obj in inspect.getmembers(self):\n",
        "            if isinstance(obj, Field):\n",
        "                fields[name] = obj.get_fieldtype()\n",
        "        return fields\n",
        "\n",
        "    def __setattr__(self, attr, val):\n",
        "        \"\"\" Przechwytuje przypisanie wartości do pól \"\"\"\n",
        "        for name, obj in inspect.getmembers(self):\n",
        "            if name == attr and isinstance(obj, Field):\n",
        "                obj.value = val  # ustawia wartość pola\n",
        "                return\n",
        "        super().__setattr__(attr, val)\n",
        "\n",
        "    def __getattr__(self, attr):\n",
        "        \"\"\" Zwraca wartość pola (nie sam obiekt Field) \"\"\"\n",
        "        if attr in self.get_fields():\n",
        "            return getattr(self.__dict__[attr], \"_value\", None)\n",
        "        raise AttributeError(f\"'{self.__class__.__name__}' object has no attribute '{attr}'\")\n",
        "\n",
        "    def save(self):\n",
        "        \"\"\" Generuje zapytanie SQL do zapisania modelu \"\"\"\n",
        "        fields = self.get_fields()\n",
        "        values = {k: getattr(self, k) for k in fields}\n",
        "\n",
        "        if values.get('id') is None:\n",
        "            # INSERT bez id\n",
        "            sql = f\"INSERT INTO {self.db_table} ({', '.join(fields.keys())}) VALUES ({', '.join(['DEFAULT' if k == 'id' else repr(v) for k, v in values.items()])})\"\n",
        "        else:\n",
        "            # UPDATE z id\n",
        "            set_clause = ', '.join(f\"{k} = {repr(v)}\" for k, v in values.items() if k != 'id')\n",
        "            sql = f\"UPDATE {self.db_table} SET {set_clause} WHERE id = {values['id']}\"\n",
        "\n",
        "        return sql\n"
      ],
      "metadata": {
        "id": "398bj-K99w6p"
      },
      "execution_count": 3,
      "outputs": []
    },
    {
      "cell_type": "markdown",
      "source": [
        "# ------------------------------\n",
        "# 4. Implementacja Koszyk (MutableSequence)\n",
        "# ------------------------------"
      ],
      "metadata": {
        "id": "qdJqVt5L9_Wm"
      }
    },
    {
      "cell_type": "code",
      "source": [
        "\n",
        "\n",
        "\n",
        "class Koszyk(MutableSequence):\n",
        "    def __init__(self):\n",
        "        self._items = []  # prywatna lista przechowująca elementy\n",
        "\n",
        "    def __getitem__(self, index):\n",
        "        return self._items[index]\n",
        "\n",
        "    def __setitem__(self, index, value):\n",
        "        self._items[index] = value\n",
        "\n",
        "    def __delitem__(self, index):\n",
        "        del self._items[index]\n",
        "\n",
        "    def __len__(self):\n",
        "        return len(self._items)\n",
        "\n",
        "    def insert(self, index, value):\n",
        "        self._items.insert(index, value)  # dodaje element w danym miejscu\n",
        "\n",
        "    def __repr__(self):\n",
        "        return repr(self._items)  # konwersja do stringa\n",
        "\n"
      ],
      "metadata": {
        "id": "pwWpWQlB9zRN"
      },
      "execution_count": 4,
      "outputs": []
    },
    {
      "cell_type": "markdown",
      "source": [
        "# ------------------------------\n",
        "# 5. Implementacja Tydzien (Collection)\n",
        "# ------------------------------"
      ],
      "metadata": {
        "id": "tXCsX8vW98OV"
      }
    },
    {
      "cell_type": "code",
      "source": [
        "\n",
        "\n",
        "class Tydzien(Collection):\n",
        "    dni_tygodnia = [\"Poniedziałek\", \"Wtorek\", \"Środa\", \"Czwartek\", \"Piątek\", \"Sobota\", \"Niedziela\"]\n",
        "\n",
        "    def __contains__(self, item):\n",
        "        return item in self.dni_tygodnia  # sprawdzanie przynależności\n",
        "\n",
        "    def __iter__(self):\n",
        "        return iter(self.dni_tygodnia)  # iterator po dniach\n",
        "\n",
        "    def __len__(self):\n",
        "        return len(self.dni_tygodnia)  # liczba dni\n"
      ],
      "metadata": {
        "id": "kt07Tdqx92Md"
      },
      "execution_count": 5,
      "outputs": []
    },
    {
      "cell_type": "markdown",
      "source": [
        "# ------------------------------\n",
        "# 6. Testowanie klas i metod\n",
        "# ------------------------------"
      ],
      "metadata": {
        "id": "ubKjs6G_9554"
      }
    },
    {
      "cell_type": "code",
      "source": [
        "\n",
        "\n",
        "\n",
        "print(\"\\n=== TESTOWANIE MODEL ===\")\n",
        "movie = Model()\n",
        "print(movie.db_table)  # 'db_model' – domyślna nazwa\n",
        "\n",
        "movie = Model(\"custom_table\")\n",
        "print(movie.db_table)  # 'custom_table' – ręcznie podana\n",
        "\n",
        "print(\"\\n=== TESTOWANIE POL ===\")\n",
        "movie.title = StringField()  # dodanie pola\n",
        "movie.title = \"Pierwszy człowiek\"  # przypisanie wartości\n",
        "print(movie.title)  # 'Pierwszy człowiek'\n",
        "\n",
        "movie.year = IntegerField()\n",
        "movie.year = 2018\n",
        "print(movie.year)  # 2018\n",
        "\n",
        "movie.release_date = DateField()\n",
        "movie.release_date = date(2018, 10, 12)\n",
        "print(movie.release_date)  # '2018-10-12'\n",
        "\n",
        "print(\"\\n=== TESTOWANIE SQL SAVE ===\")\n",
        "print(movie.save())  # SQL INSERT lub UPDATE\n",
        "\n",
        "print(\"\\n=== TESTOWANIE KOSZYKA ===\")\n",
        "koszyk = Koszyk()\n",
        "koszyk.append(\"Jabłko\")\n",
        "koszyk.append(\"Banan\")\n",
        "print(koszyk)  # ['Jabłko', 'Banan']\n",
        "\n",
        "print(\"\\n=== TESTOWANIE TYGODNIA ===\")\n",
        "tydzien = Tydzien()\n",
        "print(\"Środa\" in tydzien)  # True\n",
        "print(list(tydzien))  # ['Poniedziałek', ..., 'Niedziela']\n"
      ],
      "metadata": {
        "id": "RdI6ZNKm9372"
      },
      "execution_count": null,
      "outputs": []
    }
  ]
}